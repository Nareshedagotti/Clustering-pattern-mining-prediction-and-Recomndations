{
  "nbformat": 4,
  "nbformat_minor": 0,
  "metadata": {
    "colab": {
      "private_outputs": true,
      "provenance": []
    },
    "kernelspec": {
      "name": "python3",
      "display_name": "Python 3"
    },
    "language_info": {
      "name": "python"
    }
  },
  "cells": [
    {
      "cell_type": "markdown",
      "source": [
        "# **Edagotti Naresh**\n",
        "\n",
        "**mail:naresh21375019@gmail.com**"
      ],
      "metadata": {
        "id": "CyajStdP1vdk"
      }
    },
    {
      "cell_type": "markdown",
      "source": [
        "# **TASK--1**"
      ],
      "metadata": {
        "id": "sbSXWZx-nutL"
      }
    },
    {
      "cell_type": "markdown",
      "source": [
        "# **Clustering/Pattern Mining**\n",
        "\n",
        "**Task:** **Use any unsupervised technique to extract patterns or segregate data into groups.**\n",
        "\n",
        "**User Story:** User should be able to provide a data point (a row) and program should be able to identify\n",
        "to which group given data point belongs to and why?"
      ],
      "metadata": {
        "id": "s0pWZmDOnz8N"
      }
    },
    {
      "cell_type": "code",
      "execution_count": null,
      "metadata": {
        "id": "-_SIoQHdVT8s"
      },
      "outputs": [],
      "source": [
        "import pandas as pd\n",
        "import matplotlib.pyplot as plt\n",
        "from sklearn.cluster import KMeans\n",
        "from sklearn.preprocessing import LabelEncoder"
      ]
    },
    {
      "cell_type": "code",
      "source": [
        "data=pd.read_excel('/content/Copy of Online Retail.xlsx')"
      ],
      "metadata": {
        "id": "Fd0dkmPIdoaI"
      },
      "execution_count": null,
      "outputs": []
    },
    {
      "cell_type": "code",
      "source": [
        "data.head()"
      ],
      "metadata": {
        "id": "gsr7x8mMYuCj"
      },
      "execution_count": null,
      "outputs": []
    },
    {
      "cell_type": "code",
      "source": [
        "data.isnull().sum()"
      ],
      "metadata": {
        "id": "3y0tZypaYuIN"
      },
      "execution_count": null,
      "outputs": []
    },
    {
      "cell_type": "code",
      "source": [
        "# Select the columns for clustering\n",
        "columns_for_clustering = ['Quantity', 'UnitPrice']\n",
        "data_for_clustering = data[columns_for_clustering]\n",
        "\n",
        "# Initialize a list to store the inertia values\n",
        "inertia = []\n",
        "\n",
        "# Perform the elbow method for different values of K\n",
        "for k in range(1, 11):\n",
        "    kmeans = KMeans(n_clusters=k, random_state=42)\n",
        "    kmeans.fit(data_for_clustering)\n",
        "    inertia.append(kmeans.inertia_)\n",
        "\n",
        "# Plot the inertia values\n",
        "plt.plot(range(1, 11), inertia, marker='o')\n",
        "plt.xlabel('Number of clusters (K)')\n",
        "plt.ylabel('Inertia')\n",
        "plt.title('Elbow Method')\n",
        "plt.show()"
      ],
      "metadata": {
        "id": "c0psGTEsYuLo"
      },
      "execution_count": null,
      "outputs": []
    },
    {
      "cell_type": "code",
      "source": [
        "inertia"
      ],
      "metadata": {
        "id": "BMRgFMJXaoFI"
      },
      "execution_count": null,
      "outputs": []
    },
    {
      "cell_type": "markdown",
      "source": [
        "# **How we selected K-value**\n",
        "**The inertia values suggest that using 3 or 4 centroids (clusters) is a reasonable choice because there is a significant reduction in inertia compared to using just one centroid.**\n",
        "**Beyond 4 clusters, the reduction in inertia becomes less pronounced, indicating diminishing returns in cluster quality improvement.**"
      ],
      "metadata": {
        "id": "wNuVOU6moRUF"
      }
    },
    {
      "cell_type": "code",
      "source": [
        "# Select the columns for clustering\n",
        "columns_for_clustering = ['Quantity', 'UnitPrice']\n",
        "data_for_clustering = data[columns_for_clustering]\n",
        "\n",
        "# Perform K-Means clustering\n",
        "kmeans = KMeans(n_clusters=4, random_state=42)  # Replace 3 with your desired number of clusters (K)\n",
        "data['ClusterLabel'] = kmeans.fit_predict(data_for_clustering)\n",
        "\n",
        "# Visualize the clustering results (scatter plot)\n",
        "plt.figure(figsize=(8, 6))\n",
        "plt.scatter(data['Quantity'], data['UnitPrice'], c=data['ClusterLabel'], cmap='viridis')\n",
        "plt.xlabel('Quantity')\n",
        "plt.ylabel('UnitPrice')\n",
        "plt.title('Clustering Results')\n",
        "plt.show()"
      ],
      "metadata": {
        "id": "Fth2nwelYuFW"
      },
      "execution_count": null,
      "outputs": []
    },
    {
      "cell_type": "code",
      "source": [
        "data['ClusterLabel'].value_counts()"
      ],
      "metadata": {
        "id": "VWwHQhFscFLM"
      },
      "execution_count": null,
      "outputs": []
    },
    {
      "cell_type": "code",
      "source": [
        "cluster_3_data = data[data['ClusterLabel'] == 2]\n",
        "cluster_3_data"
      ],
      "metadata": {
        "id": "ATA5Z4bdkFi4"
      },
      "execution_count": null,
      "outputs": []
    },
    {
      "cell_type": "code",
      "source": [
        "new_data_point = [[80000,1.5]]  # Replace with the values of your new data point\n",
        "cluster_label = kmeans.predict(new_data_point)"
      ],
      "metadata": {
        "id": "LP5vRWpecYsN"
      },
      "execution_count": null,
      "outputs": []
    },
    {
      "cell_type": "code",
      "source": [
        "cluster_label"
      ],
      "metadata": {
        "id": "SNEGdd5-cc-F"
      },
      "execution_count": null,
      "outputs": []
    },
    {
      "cell_type": "markdown",
      "source": [
        "# **Conclusion**\n",
        "**The given data point [80000, 1.5] has been assigned to cluster 2 by the K-Means clustering algorithm. This means that, based on the features (in this case, 'Quantity' and 'UnitPrice'), the algorithm has identified similarities between this data point and other data points in cluster 2. These similarities could be related to both the quantity and unit price of the items in the dataset.**"
      ],
      "metadata": {
        "id": "WsBOWTR2pD9a"
      }
    },
    {
      "cell_type": "markdown",
      "source": [
        "# **TASK--2**"
      ],
      "metadata": {
        "id": "I2cTBHLPnJD5"
      }
    },
    {
      "cell_type": "markdown",
      "source": [
        "# **Prediction**\n",
        "# **Task:**\n",
        "**User Story:** User should be able to provide a Customer ID and Date, and program should be able to\n",
        "predict quantity.\n"
      ],
      "metadata": {
        "id": "q4xcmiw8nQwJ"
      }
    },
    {
      "cell_type": "code",
      "source": [
        "mean_customer_id = data['CustomerID'].mean()\n",
        "data['CustomerID'].fillna(mean_customer_id, inplace=True)"
      ],
      "metadata": {
        "id": "BPfC_MjU4sYC"
      },
      "execution_count": null,
      "outputs": []
    },
    {
      "cell_type": "code",
      "source": [
        "data.isnull().sum()"
      ],
      "metadata": {
        "id": "Bfnaa2SE4sa6"
      },
      "execution_count": null,
      "outputs": []
    },
    {
      "cell_type": "code",
      "source": [
        "# Ensure 'InvoiceDate' is in datetime format\n",
        "data['InvoiceDate'] = pd.to_datetime(data['InvoiceDate'])\n",
        "\n",
        "# Feature engineering (extract relevant features)\n",
        "data['DayOfWeek'] = data['InvoiceDate'].dt.dayofweek\n",
        "data['Month'] = data['InvoiceDate'].dt.month\n",
        "data['Year'] = data['InvoiceDate'].dt.year\n",
        "data['Hour'] = data['InvoiceDate'].dt.hour  # Add hour component\n",
        "data['Minute'] = data['InvoiceDate'].dt.minute"
      ],
      "metadata": {
        "id": "9kMljv2U4seL"
      },
      "execution_count": null,
      "outputs": []
    },
    {
      "cell_type": "code",
      "source": [
        "from sklearn.model_selection import train_test_split\n",
        "# Split the dataset into training and testing sets\n",
        "X = data[['CustomerID', 'DayOfWeek', 'Month', 'Year', 'Hour', 'Minute']]  # Features\n",
        "y = data['Quantity']\n",
        "\n",
        "X_train, X_test, y_train, y_test = train_test_split(X, y, test_size=0.2, random_state=42)"
      ],
      "metadata": {
        "id": "owpFudLe4sha"
      },
      "execution_count": null,
      "outputs": []
    },
    {
      "cell_type": "code",
      "source": [
        "from sklearn.linear_model import LinearRegression\n",
        "model=LinearRegression()\n",
        "model.fit(X_train,y_train)"
      ],
      "metadata": {
        "id": "kK44_qhU4skp"
      },
      "execution_count": null,
      "outputs": []
    },
    {
      "cell_type": "code",
      "source": [
        "# User input: CustomerID and Date for prediction\n",
        "user_customer_id = 12680\n",
        "user_date = pd.to_datetime('2011-12-09 08:55')\n",
        "\n",
        "# Prepare input features for prediction\n",
        "user_input = pd.DataFrame({'CustomerID': [user_customer_id],\n",
        "                            'DayOfWeek': [user_date.dayofweek],\n",
        "                            'Month': [user_date.month],\n",
        "                            'Year': [user_date.year],\n",
        "                           'Hour': [user_date.hour],\n",
        "                           'Minute': [user_date.minute]})"
      ],
      "metadata": {
        "id": "22FPT1rR4soA"
      },
      "execution_count": null,
      "outputs": []
    },
    {
      "cell_type": "code",
      "source": [
        "# Predict the quantity\n",
        "predicted_quantity = model.predict(user_input)[0]\n",
        "\n",
        "print(f\"Predicted Quantity for Customer ID {user_customer_id} on {user_date}: {predicted_quantity}\")"
      ],
      "metadata": {
        "id": "bspOhwfR7_-C"
      },
      "execution_count": null,
      "outputs": []
    },
    {
      "cell_type": "markdown",
      "source": [
        "# **Conclusion:**\n",
        "**Based on the input provided (Customer ID 12680 on December 9, 2011, at 08:55 AM), the machine learning model predicts a quantity of approximately 16.09 quantity. This prediction is made using various features, including the day of the week, month, year, hour, and minute, which are derived from the provided date and time.**"
      ],
      "metadata": {
        "id": "iXCtSxilqLL7"
      }
    },
    {
      "cell_type": "markdown",
      "source": [
        "# **TASK--3**"
      ],
      "metadata": {
        "id": "weVxLn_OmnAx"
      }
    },
    {
      "cell_type": "markdown",
      "source": [
        "# **Recommendation**\n",
        "**Task:** **Recommend item to the given customer id for a given date.**\n",
        "\n",
        "**User Story:** User should be able to provide a Customer ID and Date, and program should be able to\n",
        "recommend item to be purchased."
      ],
      "metadata": {
        "id": "urisTZMqmrfe"
      }
    },
    {
      "cell_type": "code",
      "source": [
        "data=pd.read_excel('/content/Copy of Online Retail.xlsx')"
      ],
      "metadata": {
        "id": "WByThr-GGAD0"
      },
      "execution_count": null,
      "outputs": []
    },
    {
      "cell_type": "code",
      "source": [
        "from surprise import Dataset, Reader, KNNBasic\n",
        "from datetime import datetime\n",
        "\n",
        "# Ensure 'InvoiceDate' is in datetime format\n",
        "data['InvoiceDate'] = pd.to_datetime(data['InvoiceDate'])\n",
        "\n",
        "# Filter data for the specified date\n",
        "user_date = pd.to_datetime('2011-12-09') # Replace with the user's desired date\n",
        "data_for_date = data[data['InvoiceDate'].dt.date == user_date.date()]\n",
        "\n",
        "# Create a Surprise Reader object\n",
        "reader = Reader(rating_scale=(0, 1))  # Since we're interested in purchase or no purchase (binary)\n",
        "\n",
        "# Load the dataset for Surprise\n",
        "data_surprise = Dataset.load_from_df(data_for_date[['CustomerID', 'StockCode', 'Quantity']], reader)\n",
        "\n",
        "# Build an item-based collaborative filtering model (K-nearest neighbors)\n",
        "sim_options = {\n",
        "    'name': 'cosine',\n",
        "    'user_based': False  # Item-based\n",
        "}\n",
        "model = KNNBasic(sim_options=sim_options)\n",
        "\n",
        "# Train the model\n",
        "trainset = data_surprise.build_full_trainset()\n",
        "model.fit(trainset)\n",
        "\n",
        "# User input: CustomerID\n",
        "user_customer_id = 13113\n",
        "\n",
        "# Get the list of items that the user has not purchased yet\n",
        "items_purchased_by_user = data_for_date[data_for_date['CustomerID'] == user_customer_id]['StockCode'].tolist()\n",
        "items_not_purchased = data_for_date[~data_for_date['StockCode'].isin(items_purchased_by_user)]['StockCode'].unique()\n",
        "\n",
        "# Generate recommendations for the user\n",
        "recommendations = []\n",
        "for item in items_not_purchased:\n",
        "    predicted_rating = model.predict(user_customer_id, item).est\n",
        "    recommendations.append({'StockCode': item, 'PredictedRating': predicted_rating})\n",
        "\n",
        "# Sort recommendations by predicted rating in descending order\n",
        "recommendations.sort(key=lambda x: x['PredictedRating'], reverse=True)\n",
        "\n",
        "# Display recommended items\n",
        "print(\"Recommended Items:\")\n",
        "for i, rec in enumerate(recommendations[:10]):  # Display the top 10 recommendations\n",
        "    print(f\"{i + 1}. StockCode: {rec['StockCode']} (Predicted Rating: {rec['PredictedRating']:.2f})\")\n"
      ],
      "metadata": {
        "id": "6fEo5wxzB-Ug"
      },
      "execution_count": null,
      "outputs": []
    },
    {
      "cell_type": "markdown",
      "source": [
        "# **Conclusion:**\n",
        "\n",
        "**For Customer ID 13113 and the given date, the program recommends 10 items for purchase, each with a predicted rating of 1.00. These recommendations are highly confident and are based on the customer's historical data and preferences. The items are expected to align with the customer's interests, enhancing their trading experience.**"
      ],
      "metadata": {
        "id": "I1mVOqXfrKJl"
      }
    }
  ]
}